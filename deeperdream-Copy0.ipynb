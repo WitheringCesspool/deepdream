{
 "metadata": {
  "colabVersion": "0.3.1",
  "default_view": {},
  "name": "",
  "signature": "sha256:9c52a0bfb844a2f846b4be4207b3dfcf02e8c417b43d0c8d7812218ccd567169",
  "views": {}
 },
 "nbformat": 3,
 "nbformat_minor": 0,
 "worksheets": [
  {
   "cells": [
    {
     "cell_type": "code",
     "collapsed": false,
     "input": [
      "# imports and basic notebook setup\n",
      "import matplotlib \n",
      "matplotlib.use('Agg')\n",
      "from cStringIO import StringIO\n",
      "import numpy as np\n",
      "import scipy.ndimage as nd\n",
      "import PIL.Image\n",
      "from IPython.display import clear_output, Image, display\n",
      "from google.protobuf import text_format\n",
      "\n",
      "import caffe\n",
      "\n",
      "def showarray(a, fmt='jpeg'):\n",
      "    a = np.uint8(np.clip(a, 0, 255))\n",
      "    f = StringIO()\n",
      "    PIL.Image.fromarray(a).save(f, fmt)\n",
      "    display(Image(data=f.getvalue()))\n"
     ],
     "language": "python",
     "metadata": {},
     "outputs": [],
     "prompt_number": 1
    },
    {
     "cell_type": "code",
     "collapsed": false,
     "input": [
      "model_path = '../caffe/models/bvlc_googlenet/' # substitute your path here\n",
      "net_fn   = model_path + 'deploy.prototxt'\n",
      "param_fn = model_path + 'bvlc_googlenet.caffemodel'"
     ],
     "language": "python",
     "metadata": {},
     "outputs": [],
     "prompt_number": 2
    },
    {
     "cell_type": "code",
     "collapsed": false,
     "input": [
      "model_path = '../caffe/models/googlenet_places205/' # substitute your path here\n",
      "net_fn   = model_path + 'deploy_places205.protxt'\n",
      "param_fn = model_path + 'googlelet_places205_train_iter_2400000.caffemodel'"
     ],
     "language": "python",
     "metadata": {},
     "outputs": [],
     "prompt_number": 2
    },
    {
     "cell_type": "code",
     "collapsed": false,
     "input": [
      "# Patching model to be able to compute gradients.\n",
      "# Note that you can also manually add \"force_backward: true\" line to \"deploy.prototxt\".\n",
      "model = caffe.io.caffe_pb2.NetParameter()\n",
      "text_format.Merge(open(net_fn).read(), model)\n",
      "model.force_backward = True\n",
      "open('tmp.prototxt', 'w').write(str(model))\n",
      "\n",
      "net = caffe.Classifier('tmp.prototxt', param_fn,\n",
      "                       mean = np.float32([104.0, 116.0, 122.0]), # ImageNet mean, training set dependent\n",
      "                       channel_swap = (2,1,0)) # the reference model has channels in BGR order instead of RGB\n",
      "\n",
      "# a couple of utility functions for converting to and from Caffe's input image layout\n",
      "def preprocess(net, img):\n",
      "    return np.float32(np.rollaxis(img, 2)[::-1]) - net.transformer.mean['data']\n",
      "def deprocess(net, img):\n",
      "    return np.dstack((img + net.transformer.mean['data'])[::-1])\n",
      "\n",
      "def objective_L2(dst):\n",
      "    dst.diff[:] = dst.data \n",
      "\n",
      "def make_step(net, step_size=1.5, end='inception_4c/output', \n",
      "              jitter=32, clip=True, objective=objective_L2):\n",
      "    '''Basic gradient ascent step.'''\n",
      "\n",
      "    src = net.blobs['data'] # input image is stored in Net's 'data' blob\n",
      "    dst = net.blobs[end]\n",
      "\n",
      "    ox, oy = np.random.randint(-jitter, jitter+1, 2)\n",
      "    src.data[0] = np.roll(np.roll(src.data[0], ox, -1), oy, -2) # apply jitter shift\n",
      "            \n",
      "    net.forward(end=end)\n",
      "    objective(dst)  # specify the optimization objective\n",
      "    net.backward(start=end)\n",
      "    g = src.diff[0]\n",
      "    # apply normalized ascent step to the input image\n",
      "    src.data[:] += step_size/np.abs(g).mean() * g\n",
      "\n",
      "    src.data[0] = np.roll(np.roll(src.data[0], -ox, -1), -oy, -2) # unshift image\n",
      "            \n",
      "    if clip:\n",
      "        bias = net.transformer.mean['data']\n",
      "        src.data[:] = np.clip(src.data, -bias, 255-bias)   \n",
      "\n",
      "def deepdream(net, base_img, iter_n=20,ctave_n=4, octave_scale=1.4, \n",
      "              end='inception_4c/output', clip=True, **step_params):\n",
      "    # prepare base images for all octaves\n",
      "    octaves = [preprocess(net, base_img)]\n",
      "    for i in xrange(octave_n-1):\n",
      "        octaves.append(nd.zoom(octaves[-1], (1, 1.0/octave_scale,1.0/octave_scale), order=1))\n",
      "    \n",
      "    src = net.blobs['data']\n",
      "    detail = np.zeros_like(octaves[-1]) # allocate image for network-produced details\n",
      "    for octave, octave_base in enumerate(octaves[::-1]):\n",
      "        h, w = octave_base.shape[-2:]\n",
      "        if octave > 0:\n",
      "            # upscale details from the previous octave\n",
      "            h1, w1 = detail.shape[-2:]\n",
      "            detail = nd.zoom(detail, (1, 1.0*h/h1,1.0*w/w1), order=1)\n",
      "\n",
      "        src.reshape(1,3,h,w) # resize the network's input image size\n",
      "        src.data[0] = octave_base+detail\n",
      "        for i in xrange(iter_n):\n",
      "            make_step(net, end=end, clip=clip, **step_params)\n",
      "            \n",
      "            # visualization\n",
      "            vis = deprocess(net, src.data[0])\n",
      "            if not clip: # adjust image contrast if clipping is disabled\n",
      "                vis = vis*(255.0/np.percentile(vis, 99.98))\n",
      "            showarray(vis)\n",
      "            print octave, i, end, vis.shape\n",
      "            clear_output(wait=True)\n",
      "            \n",
      "        # extract details produced on the current octave\n",
      "        detail = src.data[0]-octave_base\n",
      "       \n",
      "    # returning the resulting image\n",
      "    return deprocess(net, src.data[0])\n",
      "\n",
      "img = np.float32(PIL.Image.open('/home/spiorf/Scrivania/noise3.jpg'))\n",
      "showarray(img)\n",
      "\n",
      "#img=deepdream(net, img, end='inception_4e/5x5')\n",
      "    \n",
      "\n",
      "    \n",
      "blobs = net.blobs.keys()\n",
      "blob_len=len(blobs)\n",
      "!mkdir /home/spiorf/Scrivania/zoom7\n",
      "frame = img\n",
      "frame_i = 0\n",
      "h, w = frame.shape[:2]\n",
      "s = 0.00 # scale coefficient\n"
     ],
     "language": "python",
     "metadata": {
      "cellView": "both",
      "colab_type": "code",
      "id": "Pqz5k4syOZNA"
     },
     "outputs": [
      {
       "jpeg": "[encoded data removed]",
       "metadata": {},
       "output_type": "display_data",
       "text": [
        "<IPython.core.display.Image at 0x7fbfb0423310>"
       ]
      },
      {
       "output_type": "stream",
       "stream": "stdout",
       "text": [
        "mkdir: impossibile creare la directory \"/home/spiorf/Scrivania/zoom7\": File gi\u00e0 esistente\r\n"
       ]
      }
     ],
     "prompt_number": 17
    },
    {
     "cell_type": "code",
     "collapsed": false,
     "input": [
      "x=0\n",
      "while x <= 120:\n",
      "    print   \"%04d\"%x, blobs[x]\n",
      "    x += 1"
     ],
     "language": "python",
     "metadata": {},
     "outputs": [
      {
       "output_type": "stream",
       "stream": "stdout",
       "text": [
        "0000 data\n",
        "0001 conv1/7x7_s2\n",
        "0002 pool1/3x3_s2\n",
        "0003 pool1/norm1\n",
        "0004 conv2/3x3_reduce\n",
        "0005 conv2/3x3\n",
        "0006 conv2/norm2\n",
        "0007 pool2/3x3_s2\n",
        "0008 pool2/3x3_s2_pool2/3x3_s2_0_split_0\n",
        "0009 pool2/3x3_s2_pool2/3x3_s2_0_split_1\n",
        "0010 pool2/3x3_s2_pool2/3x3_s2_0_split_2\n",
        "0011 pool2/3x3_s2_pool2/3x3_s2_0_split_3\n",
        "0012 inception_3a/1x1\n",
        "0013 inception_3a/3x3_reduce\n",
        "0014 inception_3a/3x3\n",
        "0015 inception_3a/5x5_reduce\n",
        "0016 inception_3a/5x5\n",
        "0017 inception_3a/pool\n",
        "0018 inception_3a/pool_proj\n",
        "0019 inception_3a/output\n",
        "0020 inception_3a/output_inception_3a/output_0_split_0\n",
        "0021 inception_3a/output_inception_3a/output_0_split_1\n",
        "0022 inception_3a/output_inception_3a/output_0_split_2\n",
        "0023 inception_3a/output_inception_3a/output_0_split_3\n",
        "0024 inception_3b/1x1\n",
        "0025 inception_3b/3x3_reduce\n",
        "0026 inception_3b/3x3\n",
        "0027 inception_3b/5x5_reduce\n",
        "0028 inception_3b/5x5\n",
        "0029 inception_3b/pool\n",
        "0030 inception_3b/pool_proj\n",
        "0031 inception_3b/output\n",
        "0032 pool3/3x3_s2\n",
        "0033 pool3/3x3_s2_pool3/3x3_s2_0_split_0\n",
        "0034 pool3/3x3_s2_pool3/3x3_s2_0_split_1\n",
        "0035 pool3/3x3_s2_pool3/3x3_s2_0_split_2\n",
        "0036 pool3/3x3_s2_pool3/3x3_s2_0_split_3\n",
        "0037 inception_4a/1x1\n",
        "0038 inception_4a/3x3_reduce\n",
        "0039 inception_4a/3x3\n",
        "0040 inception_4a/5x5_reduce\n",
        "0041 inception_4a/5x5\n",
        "0042 inception_4a/pool\n",
        "0043 inception_4a/pool_proj\n",
        "0044 inception_4a/output\n",
        "0045 inception_4a/output_inception_4a/output_0_split_0\n",
        "0046 inception_4a/output_inception_4a/output_0_split_1\n",
        "0047 inception_4a/output_inception_4a/output_0_split_2\n",
        "0048 inception_4a/output_inception_4a/output_0_split_3\n",
        "0049 inception_4b/1x1\n",
        "0050 inception_4b/3x3_reduce\n",
        "0051 inception_4b/3x3\n",
        "0052 inception_4b/5x5_reduce\n",
        "0053 inception_4b/5x5\n",
        "0054 inception_4b/pool\n",
        "0055 inception_4b/pool_proj\n",
        "0056 inception_4b/output\n",
        "0057 inception_4b/output_inception_4b/output_0_split_0\n",
        "0058 inception_4b/output_inception_4b/output_0_split_1\n",
        "0059 inception_4b/output_inception_4b/output_0_split_2\n",
        "0060 inception_4b/output_inception_4b/output_0_split_3\n",
        "0061 inception_4c/1x1\n",
        "0062 inception_4c/3x3_reduce\n",
        "0063 inception_4c/3x3\n",
        "0064 inception_4c/5x5_reduce\n",
        "0065 inception_4c/5x5\n",
        "0066 inception_4c/pool\n",
        "0067 inception_4c/pool_proj\n",
        "0068 inception_4c/output\n",
        "0069 inception_4c/output_inception_4c/output_0_split_0\n",
        "0070 inception_4c/output_inception_4c/output_0_split_1\n",
        "0071 inception_4c/output_inception_4c/output_0_split_2\n",
        "0072 inception_4c/output_inception_4c/output_0_split_3\n",
        "0073 inception_4d/1x1\n",
        "0074 inception_4d/3x3_reduce\n",
        "0075 inception_4d/3x3\n",
        "0076 inception_4d/5x5_reduce\n",
        "0077 inception_4d/5x5\n",
        "0078 inception_4d/pool\n",
        "0079 inception_4d/pool_proj\n",
        "0080 inception_4d/output\n",
        "0081 inception_4d/output_inception_4d/output_0_split_0\n",
        "0082 inception_4d/output_inception_4d/output_0_split_1\n",
        "0083 inception_4d/output_inception_4d/output_0_split_2\n",
        "0084 inception_4d/output_inception_4d/output_0_split_3\n",
        "0085 inception_4e/1x1\n",
        "0086 inception_4e/3x3_reduce\n",
        "0087 inception_4e/3x3\n",
        "0088 inception_4e/5x5_reduce\n",
        "0089 inception_4e/5x5\n",
        "0090 inception_4e/pool\n",
        "0091 inception_4e/pool_proj\n",
        "0092 inception_4e/output\n",
        "0093 pool4/3x3_s2\n",
        "0094 pool4/3x3_s2_pool4/3x3_s2_0_split_0\n",
        "0095 pool4/3x3_s2_pool4/3x3_s2_0_split_1\n",
        "0096 pool4/3x3_s2_pool4/3x3_s2_0_split_2\n",
        "0097 pool4/3x3_s2_pool4/3x3_s2_0_split_3\n",
        "0098 inception_5a/1x1\n",
        "0099 inception_5a/3x3_reduce\n",
        "0100 inception_5a/3x3\n",
        "0101 inception_5a/5x5_reduce\n",
        "0102 inception_5a/5x5\n",
        "0103 inception_5a/pool\n",
        "0104 inception_5a/pool_proj\n",
        "0105 inception_5a/output\n",
        "0106 inception_5a/output_inception_5a/output_0_split_0\n",
        "0107 inception_5a/output_inception_5a/output_0_split_1\n",
        "0108 inception_5a/output_inception_5a/output_0_split_2\n",
        "0109 inception_5a/output_inception_5a/output_0_split_3\n",
        "0110 inception_5b/1x1\n",
        "0111 inception_5b/3x3_reduce\n",
        "0112 inception_5b/3x3\n",
        "0113 inception_5b/5x5_reduce\n",
        "0114 inception_5b/5x5\n",
        "0115 inception_5b/pool\n",
        "0116 inception_5b/pool_proj\n",
        "0117 inception_5b/output\n",
        "0118 pool5/7x7_s1\n",
        "0119 loss3/classifier\n",
        "0120 prob\n"
       ]
      }
     ],
     "prompt_number": 9
    },
    {
     "cell_type": "code",
     "collapsed": false,
     "input": [
      "deepdream(net, img, end=blobs[19])"
     ],
     "language": "python",
     "metadata": {},
     "outputs": [
      {
       "ename": "KeyboardInterrupt",
       "evalue": "",
       "output_type": "pyerr",
       "traceback": [
        "\u001b[0;31m---------------------------------------------------------------------------\u001b[0m\n\u001b[0;31mKeyboardInterrupt\u001b[0m                         Traceback (most recent call last)",
        "\u001b[0;32m<ipython-input-31-c81d65610761>\u001b[0m in \u001b[0;36m<module>\u001b[0;34m()\u001b[0m\n\u001b[0;32m----> 1\u001b[0;31m \u001b[0mdeepdream\u001b[0m\u001b[0;34m(\u001b[0m\u001b[0mnet\u001b[0m\u001b[0;34m,\u001b[0m \u001b[0mimg\u001b[0m\u001b[0;34m,\u001b[0m \u001b[0mend\u001b[0m\u001b[0;34m=\u001b[0m\u001b[0mblobs\u001b[0m\u001b[0;34m[\u001b[0m\u001b[0;36m19\u001b[0m\u001b[0;34m]\u001b[0m\u001b[0;34m)\u001b[0m\u001b[0;34m\u001b[0m\u001b[0m\n\u001b[0m",
        "\u001b[0;32m<ipython-input-29-853a8d19e78d>\u001b[0m in \u001b[0;36mdeepdream\u001b[0;34m(net, base_img, iter_n, octave_n, octave_scale, end, clip, **step_params)\u001b[0m\n\u001b[1;32m     61\u001b[0m         \u001b[0msrc\u001b[0m\u001b[0;34m.\u001b[0m\u001b[0mdata\u001b[0m\u001b[0;34m[\u001b[0m\u001b[0;36m0\u001b[0m\u001b[0;34m]\u001b[0m \u001b[0;34m=\u001b[0m \u001b[0moctave_base\u001b[0m\u001b[0;34m+\u001b[0m\u001b[0mdetail\u001b[0m\u001b[0;34m\u001b[0m\u001b[0m\n\u001b[1;32m     62\u001b[0m         \u001b[0;32mfor\u001b[0m \u001b[0mi\u001b[0m \u001b[0;32min\u001b[0m \u001b[0mxrange\u001b[0m\u001b[0;34m(\u001b[0m\u001b[0miter_n\u001b[0m\u001b[0;34m)\u001b[0m\u001b[0;34m:\u001b[0m\u001b[0;34m\u001b[0m\u001b[0m\n\u001b[0;32m---> 63\u001b[0;31m             \u001b[0mmake_step\u001b[0m\u001b[0;34m(\u001b[0m\u001b[0mnet\u001b[0m\u001b[0;34m,\u001b[0m \u001b[0mend\u001b[0m\u001b[0;34m=\u001b[0m\u001b[0mend\u001b[0m\u001b[0;34m,\u001b[0m \u001b[0mclip\u001b[0m\u001b[0;34m=\u001b[0m\u001b[0mclip\u001b[0m\u001b[0;34m,\u001b[0m \u001b[0;34m**\u001b[0m\u001b[0mstep_params\u001b[0m\u001b[0;34m)\u001b[0m\u001b[0;34m\u001b[0m\u001b[0m\n\u001b[0m\u001b[1;32m     64\u001b[0m \u001b[0;34m\u001b[0m\u001b[0m\n\u001b[1;32m     65\u001b[0m             \u001b[0;31m# visualization\u001b[0m\u001b[0;34m\u001b[0m\u001b[0;34m\u001b[0m\u001b[0m\n",
        "\u001b[0;32m<ipython-input-29-853a8d19e78d>\u001b[0m in \u001b[0;36mmake_step\u001b[0;34m(net, step_size, end, jitter, clip, objective)\u001b[0m\n\u001b[1;32m     31\u001b[0m     \u001b[0mnet\u001b[0m\u001b[0;34m.\u001b[0m\u001b[0mforward\u001b[0m\u001b[0;34m(\u001b[0m\u001b[0mend\u001b[0m\u001b[0;34m=\u001b[0m\u001b[0mend\u001b[0m\u001b[0;34m)\u001b[0m\u001b[0;34m\u001b[0m\u001b[0m\n\u001b[1;32m     32\u001b[0m     \u001b[0mobjective\u001b[0m\u001b[0;34m(\u001b[0m\u001b[0mdst\u001b[0m\u001b[0;34m)\u001b[0m  \u001b[0;31m# specify the optimization objective\u001b[0m\u001b[0;34m\u001b[0m\u001b[0m\n\u001b[0;32m---> 33\u001b[0;31m     \u001b[0mnet\u001b[0m\u001b[0;34m.\u001b[0m\u001b[0mbackward\u001b[0m\u001b[0;34m(\u001b[0m\u001b[0mstart\u001b[0m\u001b[0;34m=\u001b[0m\u001b[0mend\u001b[0m\u001b[0;34m)\u001b[0m\u001b[0;34m\u001b[0m\u001b[0m\n\u001b[0m\u001b[1;32m     34\u001b[0m     \u001b[0mg\u001b[0m \u001b[0;34m=\u001b[0m \u001b[0msrc\u001b[0m\u001b[0;34m.\u001b[0m\u001b[0mdiff\u001b[0m\u001b[0;34m[\u001b[0m\u001b[0;36m0\u001b[0m\u001b[0;34m]\u001b[0m\u001b[0;34m\u001b[0m\u001b[0m\n\u001b[1;32m     35\u001b[0m     \u001b[0;31m# apply normalized ascent step to the input image\u001b[0m\u001b[0;34m\u001b[0m\u001b[0;34m\u001b[0m\u001b[0m\n",
        "\u001b[0;32m/root/caffe/python/caffe/pycaffe.pyc\u001b[0m in \u001b[0;36m_Net_backward\u001b[0;34m(self, diffs, start, end, **kwargs)\u001b[0m\n\u001b[1;32m    143\u001b[0m             \u001b[0mself\u001b[0m\u001b[0;34m.\u001b[0m\u001b[0mblobs\u001b[0m\u001b[0;34m[\u001b[0m\u001b[0mtop\u001b[0m\u001b[0;34m]\u001b[0m\u001b[0;34m.\u001b[0m\u001b[0mdiff\u001b[0m\u001b[0;34m[\u001b[0m\u001b[0;34m.\u001b[0m\u001b[0;34m.\u001b[0m\u001b[0;34m.\u001b[0m\u001b[0;34m]\u001b[0m \u001b[0;34m=\u001b[0m \u001b[0mdiff\u001b[0m\u001b[0;34m\u001b[0m\u001b[0m\n\u001b[1;32m    144\u001b[0m \u001b[0;34m\u001b[0m\u001b[0m\n\u001b[0;32m--> 145\u001b[0;31m     \u001b[0mself\u001b[0m\u001b[0;34m.\u001b[0m\u001b[0m_backward\u001b[0m\u001b[0;34m(\u001b[0m\u001b[0mstart_ind\u001b[0m\u001b[0;34m,\u001b[0m \u001b[0mend_ind\u001b[0m\u001b[0;34m)\u001b[0m\u001b[0;34m\u001b[0m\u001b[0m\n\u001b[0m\u001b[1;32m    146\u001b[0m \u001b[0;34m\u001b[0m\u001b[0m\n\u001b[1;32m    147\u001b[0m     \u001b[0;31m# Unpack diffs to extract\u001b[0m\u001b[0;34m\u001b[0m\u001b[0;34m\u001b[0m\u001b[0m\n",
        "\u001b[0;31mKeyboardInterrupt\u001b[0m: "
       ]
      }
     ],
     "prompt_number": 31
    },
    {
     "cell_type": "code",
     "collapsed": false,
     "input": [
      "deepdream(net, img, end=blobs[31])"
     ],
     "language": "python",
     "metadata": {},
     "outputs": []
    },
    {
     "cell_type": "code",
     "collapsed": false,
     "input": [
      "deepdream(net, img, end=blobs[44])"
     ],
     "language": "python",
     "metadata": {},
     "outputs": []
    },
    {
     "cell_type": "code",
     "collapsed": false,
     "input": [
      "deepdream(net, img, end=blobs[56])"
     ],
     "language": "python",
     "metadata": {},
     "outputs": []
    },
    {
     "cell_type": "code",
     "collapsed": false,
     "input": [
      "_=deepdream(net, img, end=blobs[68])"
     ],
     "language": "python",
     "metadata": {},
     "outputs": [
      {
       "ename": "KeyboardInterrupt",
       "evalue": "",
       "output_type": "pyerr",
       "traceback": [
        "\u001b[0;31m---------------------------------------------------------------------------\u001b[0m\n\u001b[0;31mKeyboardInterrupt\u001b[0m                         Traceback (most recent call last)",
        "\u001b[0;32m<ipython-input-5-1fccbad6b1d5>\u001b[0m in \u001b[0;36m<module>\u001b[0;34m()\u001b[0m\n\u001b[0;32m----> 1\u001b[0;31m \u001b[0m_\u001b[0m\u001b[0;34m=\u001b[0m\u001b[0mdeepdream\u001b[0m\u001b[0;34m(\u001b[0m\u001b[0mnet\u001b[0m\u001b[0;34m,\u001b[0m \u001b[0mimg\u001b[0m\u001b[0;34m,\u001b[0m \u001b[0mend\u001b[0m\u001b[0;34m=\u001b[0m\u001b[0mblobs\u001b[0m\u001b[0;34m[\u001b[0m\u001b[0;36m68\u001b[0m\u001b[0;34m]\u001b[0m\u001b[0;34m)\u001b[0m\u001b[0;34m\u001b[0m\u001b[0m\n\u001b[0m",
        "\u001b[0;32m<ipython-input-4-bfd86e6f949c>\u001b[0m in \u001b[0;36mdeepdream\u001b[0;34m(net, base_img, iter_n, octave_n, octave_scale, end, clip, **step_params)\u001b[0m\n\u001b[1;32m     61\u001b[0m         \u001b[0msrc\u001b[0m\u001b[0;34m.\u001b[0m\u001b[0mdata\u001b[0m\u001b[0;34m[\u001b[0m\u001b[0;36m0\u001b[0m\u001b[0;34m]\u001b[0m \u001b[0;34m=\u001b[0m \u001b[0moctave_base\u001b[0m\u001b[0;34m+\u001b[0m\u001b[0mdetail\u001b[0m\u001b[0;34m\u001b[0m\u001b[0m\n\u001b[1;32m     62\u001b[0m         \u001b[0;32mfor\u001b[0m \u001b[0mi\u001b[0m \u001b[0;32min\u001b[0m \u001b[0mxrange\u001b[0m\u001b[0;34m(\u001b[0m\u001b[0miter_n\u001b[0m\u001b[0;34m)\u001b[0m\u001b[0;34m:\u001b[0m\u001b[0;34m\u001b[0m\u001b[0m\n\u001b[0;32m---> 63\u001b[0;31m             \u001b[0mmake_step\u001b[0m\u001b[0;34m(\u001b[0m\u001b[0mnet\u001b[0m\u001b[0;34m,\u001b[0m \u001b[0mend\u001b[0m\u001b[0;34m=\u001b[0m\u001b[0mend\u001b[0m\u001b[0;34m,\u001b[0m \u001b[0mclip\u001b[0m\u001b[0;34m=\u001b[0m\u001b[0mclip\u001b[0m\u001b[0;34m,\u001b[0m \u001b[0;34m**\u001b[0m\u001b[0mstep_params\u001b[0m\u001b[0;34m)\u001b[0m\u001b[0;34m\u001b[0m\u001b[0m\n\u001b[0m\u001b[1;32m     64\u001b[0m \u001b[0;34m\u001b[0m\u001b[0m\n\u001b[1;32m     65\u001b[0m             \u001b[0;31m# visualization\u001b[0m\u001b[0;34m\u001b[0m\u001b[0;34m\u001b[0m\u001b[0m\n",
        "\u001b[0;32m<ipython-input-4-bfd86e6f949c>\u001b[0m in \u001b[0;36mmake_step\u001b[0;34m(net, step_size, end, jitter, clip, objective)\u001b[0m\n\u001b[1;32m     29\u001b[0m     \u001b[0msrc\u001b[0m\u001b[0;34m.\u001b[0m\u001b[0mdata\u001b[0m\u001b[0;34m[\u001b[0m\u001b[0;36m0\u001b[0m\u001b[0;34m]\u001b[0m \u001b[0;34m=\u001b[0m \u001b[0mnp\u001b[0m\u001b[0;34m.\u001b[0m\u001b[0mroll\u001b[0m\u001b[0;34m(\u001b[0m\u001b[0mnp\u001b[0m\u001b[0;34m.\u001b[0m\u001b[0mroll\u001b[0m\u001b[0;34m(\u001b[0m\u001b[0msrc\u001b[0m\u001b[0;34m.\u001b[0m\u001b[0mdata\u001b[0m\u001b[0;34m[\u001b[0m\u001b[0;36m0\u001b[0m\u001b[0;34m]\u001b[0m\u001b[0;34m,\u001b[0m \u001b[0mox\u001b[0m\u001b[0;34m,\u001b[0m \u001b[0;34m-\u001b[0m\u001b[0;36m1\u001b[0m\u001b[0;34m)\u001b[0m\u001b[0;34m,\u001b[0m \u001b[0moy\u001b[0m\u001b[0;34m,\u001b[0m \u001b[0;34m-\u001b[0m\u001b[0;36m2\u001b[0m\u001b[0;34m)\u001b[0m \u001b[0;31m# apply jitter shift\u001b[0m\u001b[0;34m\u001b[0m\u001b[0m\n\u001b[1;32m     30\u001b[0m \u001b[0;34m\u001b[0m\u001b[0m\n\u001b[0;32m---> 31\u001b[0;31m     \u001b[0mnet\u001b[0m\u001b[0;34m.\u001b[0m\u001b[0mforward\u001b[0m\u001b[0;34m(\u001b[0m\u001b[0mend\u001b[0m\u001b[0;34m=\u001b[0m\u001b[0mend\u001b[0m\u001b[0;34m)\u001b[0m\u001b[0;34m\u001b[0m\u001b[0m\n\u001b[0m\u001b[1;32m     32\u001b[0m     \u001b[0mobjective\u001b[0m\u001b[0;34m(\u001b[0m\u001b[0mdst\u001b[0m\u001b[0;34m)\u001b[0m  \u001b[0;31m# specify the optimization objective\u001b[0m\u001b[0;34m\u001b[0m\u001b[0m\n\u001b[1;32m     33\u001b[0m     \u001b[0mnet\u001b[0m\u001b[0;34m.\u001b[0m\u001b[0mbackward\u001b[0m\u001b[0;34m(\u001b[0m\u001b[0mstart\u001b[0m\u001b[0;34m=\u001b[0m\u001b[0mend\u001b[0m\u001b[0;34m)\u001b[0m\u001b[0;34m\u001b[0m\u001b[0m\n",
        "\u001b[0;32m/root/caffe/python/caffe/pycaffe.pyc\u001b[0m in \u001b[0;36m_Net_forward\u001b[0;34m(self, blobs, start, end, **kwargs)\u001b[0m\n\u001b[1;32m     93\u001b[0m             \u001b[0mself\u001b[0m\u001b[0;34m.\u001b[0m\u001b[0mblobs\u001b[0m\u001b[0;34m[\u001b[0m\u001b[0min_\u001b[0m\u001b[0;34m]\u001b[0m\u001b[0;34m.\u001b[0m\u001b[0mdata\u001b[0m\u001b[0;34m[\u001b[0m\u001b[0;34m.\u001b[0m\u001b[0;34m.\u001b[0m\u001b[0;34m.\u001b[0m\u001b[0;34m]\u001b[0m \u001b[0;34m=\u001b[0m \u001b[0mblob\u001b[0m\u001b[0;34m\u001b[0m\u001b[0m\n\u001b[1;32m     94\u001b[0m \u001b[0;34m\u001b[0m\u001b[0m\n\u001b[0;32m---> 95\u001b[0;31m     \u001b[0mself\u001b[0m\u001b[0;34m.\u001b[0m\u001b[0m_forward\u001b[0m\u001b[0;34m(\u001b[0m\u001b[0mstart_ind\u001b[0m\u001b[0;34m,\u001b[0m \u001b[0mend_ind\u001b[0m\u001b[0;34m)\u001b[0m\u001b[0;34m\u001b[0m\u001b[0m\n\u001b[0m\u001b[1;32m     96\u001b[0m \u001b[0;34m\u001b[0m\u001b[0m\n\u001b[1;32m     97\u001b[0m     \u001b[0;31m# Unpack blobs to extract\u001b[0m\u001b[0;34m\u001b[0m\u001b[0;34m\u001b[0m\u001b[0m\n",
        "\u001b[0;31mKeyboardInterrupt\u001b[0m: "
       ]
      }
     ],
     "prompt_number": 5
    },
    {
     "cell_type": "code",
     "collapsed": false,
     "input": [
      "deepdream(net, img, end=blobs[80])"
     ],
     "language": "python",
     "metadata": {},
     "outputs": []
    },
    {
     "cell_type": "code",
     "collapsed": false,
     "input": [
      "deepdream(net, img, end=blobs[92])"
     ],
     "language": "python",
     "metadata": {},
     "outputs": [
      {
       "ename": "NameError",
       "evalue": "global name 'octave_n' is not defined",
       "output_type": "pyerr",
       "traceback": [
        "\u001b[0;31m---------------------------------------------------------------------------\u001b[0m\n\u001b[0;31mNameError\u001b[0m                                 Traceback (most recent call last)",
        "\u001b[0;32m<ipython-input-18-7a2fb03399bb>\u001b[0m in \u001b[0;36m<module>\u001b[0;34m()\u001b[0m\n\u001b[0;32m----> 1\u001b[0;31m \u001b[0mdeepdream\u001b[0m\u001b[0;34m(\u001b[0m\u001b[0mnet\u001b[0m\u001b[0;34m,\u001b[0m \u001b[0mimg\u001b[0m\u001b[0;34m,\u001b[0m \u001b[0mend\u001b[0m\u001b[0;34m=\u001b[0m\u001b[0mblobs\u001b[0m\u001b[0;34m[\u001b[0m\u001b[0;36m92\u001b[0m\u001b[0;34m]\u001b[0m\u001b[0;34m)\u001b[0m\u001b[0;34m\u001b[0m\u001b[0m\n\u001b[0m",
        "\u001b[0;32m<ipython-input-17-103cbccd2562>\u001b[0m in \u001b[0;36mdeepdream\u001b[0;34m(net, base_img, iter_n, ctave_n, octave_scale, end, clip, **step_params)\u001b[0m\n\u001b[1;32m     46\u001b[0m     \u001b[0;31m# prepare base images for all octaves\u001b[0m\u001b[0;34m\u001b[0m\u001b[0;34m\u001b[0m\u001b[0m\n\u001b[1;32m     47\u001b[0m     \u001b[0moctaves\u001b[0m \u001b[0;34m=\u001b[0m \u001b[0;34m[\u001b[0m\u001b[0mpreprocess\u001b[0m\u001b[0;34m(\u001b[0m\u001b[0mnet\u001b[0m\u001b[0;34m,\u001b[0m \u001b[0mbase_img\u001b[0m\u001b[0;34m)\u001b[0m\u001b[0;34m]\u001b[0m\u001b[0;34m\u001b[0m\u001b[0m\n\u001b[0;32m---> 48\u001b[0;31m     \u001b[0;32mfor\u001b[0m \u001b[0mi\u001b[0m \u001b[0;32min\u001b[0m \u001b[0mxrange\u001b[0m\u001b[0;34m(\u001b[0m\u001b[0moctave_n\u001b[0m\u001b[0;34m-\u001b[0m\u001b[0;36m1\u001b[0m\u001b[0;34m)\u001b[0m\u001b[0;34m:\u001b[0m\u001b[0;34m\u001b[0m\u001b[0m\n\u001b[0m\u001b[1;32m     49\u001b[0m         \u001b[0moctaves\u001b[0m\u001b[0;34m.\u001b[0m\u001b[0mappend\u001b[0m\u001b[0;34m(\u001b[0m\u001b[0mnd\u001b[0m\u001b[0;34m.\u001b[0m\u001b[0mzoom\u001b[0m\u001b[0;34m(\u001b[0m\u001b[0moctaves\u001b[0m\u001b[0;34m[\u001b[0m\u001b[0;34m-\u001b[0m\u001b[0;36m1\u001b[0m\u001b[0;34m]\u001b[0m\u001b[0;34m,\u001b[0m \u001b[0;34m(\u001b[0m\u001b[0;36m1\u001b[0m\u001b[0;34m,\u001b[0m \u001b[0;36m1.0\u001b[0m\u001b[0;34m/\u001b[0m\u001b[0moctave_scale\u001b[0m\u001b[0;34m,\u001b[0m\u001b[0;36m1.0\u001b[0m\u001b[0;34m/\u001b[0m\u001b[0moctave_scale\u001b[0m\u001b[0;34m)\u001b[0m\u001b[0;34m,\u001b[0m \u001b[0morder\u001b[0m\u001b[0;34m=\u001b[0m\u001b[0;36m1\u001b[0m\u001b[0;34m)\u001b[0m\u001b[0;34m)\u001b[0m\u001b[0;34m\u001b[0m\u001b[0m\n\u001b[1;32m     50\u001b[0m \u001b[0;34m\u001b[0m\u001b[0m\n",
        "\u001b[0;31mNameError\u001b[0m: global name 'octave_n' is not defined"
       ]
      }
     ],
     "prompt_number": 18
    },
    {
     "cell_type": "code",
     "collapsed": false,
     "input": [
      "deepdream(net, img, end=blobs[105])"
     ],
     "language": "python",
     "metadata": {},
     "outputs": []
    },
    {
     "cell_type": "code",
     "collapsed": false,
     "input": [
      "deepdream(net, img, end=blobs[117])"
     ],
     "language": "python",
     "metadata": {},
     "outputs": [
      {
       "ename": "NameError",
       "evalue": "global name 'octave_n' is not defined",
       "output_type": "pyerr",
       "traceback": [
        "\u001b[0;31m---------------------------------------------------------------------------\u001b[0m\n\u001b[0;31mNameError\u001b[0m                                 Traceback (most recent call last)",
        "\u001b[0;32m<ipython-input-11-4a35a34f9626>\u001b[0m in \u001b[0;36m<module>\u001b[0;34m()\u001b[0m\n\u001b[0;32m----> 1\u001b[0;31m \u001b[0mdeepdream\u001b[0m\u001b[0;34m(\u001b[0m\u001b[0mnet\u001b[0m\u001b[0;34m,\u001b[0m \u001b[0mimg\u001b[0m\u001b[0;34m,\u001b[0m \u001b[0mend\u001b[0m\u001b[0;34m=\u001b[0m\u001b[0mblobs\u001b[0m\u001b[0;34m[\u001b[0m\u001b[0;36m117\u001b[0m\u001b[0;34m]\u001b[0m\u001b[0;34m)\u001b[0m\u001b[0;34m\u001b[0m\u001b[0m\n\u001b[0m",
        "\u001b[0;32m<ipython-input-8-568ea8ada33d>\u001b[0m in \u001b[0;36mdeepdream\u001b[0;34m(net, base_img, iter_n, ctave_n, octave_scale, end, clip, **step_params)\u001b[0m\n\u001b[1;32m     46\u001b[0m     \u001b[0;31m# prepare base images for all octaves\u001b[0m\u001b[0;34m\u001b[0m\u001b[0;34m\u001b[0m\u001b[0m\n\u001b[1;32m     47\u001b[0m     \u001b[0moctaves\u001b[0m \u001b[0;34m=\u001b[0m \u001b[0;34m[\u001b[0m\u001b[0mpreprocess\u001b[0m\u001b[0;34m(\u001b[0m\u001b[0mnet\u001b[0m\u001b[0;34m,\u001b[0m \u001b[0mbase_img\u001b[0m\u001b[0;34m)\u001b[0m\u001b[0;34m]\u001b[0m\u001b[0;34m\u001b[0m\u001b[0m\n\u001b[0;32m---> 48\u001b[0;31m     \u001b[0;32mfor\u001b[0m \u001b[0mi\u001b[0m \u001b[0;32min\u001b[0m \u001b[0mxrange\u001b[0m\u001b[0;34m(\u001b[0m\u001b[0moctave_n\u001b[0m\u001b[0;34m-\u001b[0m\u001b[0;36m1\u001b[0m\u001b[0;34m)\u001b[0m\u001b[0;34m:\u001b[0m\u001b[0;34m\u001b[0m\u001b[0m\n\u001b[0m\u001b[1;32m     49\u001b[0m         \u001b[0moctaves\u001b[0m\u001b[0;34m.\u001b[0m\u001b[0mappend\u001b[0m\u001b[0;34m(\u001b[0m\u001b[0mnd\u001b[0m\u001b[0;34m.\u001b[0m\u001b[0mzoom\u001b[0m\u001b[0;34m(\u001b[0m\u001b[0moctaves\u001b[0m\u001b[0;34m[\u001b[0m\u001b[0;34m-\u001b[0m\u001b[0;36m1\u001b[0m\u001b[0;34m]\u001b[0m\u001b[0;34m,\u001b[0m \u001b[0;34m(\u001b[0m\u001b[0;36m1\u001b[0m\u001b[0;34m,\u001b[0m \u001b[0;36m1.0\u001b[0m\u001b[0;34m/\u001b[0m\u001b[0moctave_scale\u001b[0m\u001b[0;34m,\u001b[0m\u001b[0;36m1.0\u001b[0m\u001b[0;34m/\u001b[0m\u001b[0moctave_scale\u001b[0m\u001b[0;34m)\u001b[0m\u001b[0;34m,\u001b[0m \u001b[0morder\u001b[0m\u001b[0;34m=\u001b[0m\u001b[0;36m1\u001b[0m\u001b[0;34m)\u001b[0m\u001b[0;34m)\u001b[0m\u001b[0;34m\u001b[0m\u001b[0m\n\u001b[1;32m     50\u001b[0m \u001b[0;34m\u001b[0m\u001b[0m\n",
        "\u001b[0;31mNameError\u001b[0m: global name 'octave_n' is not defined"
       ]
      }
     ],
     "prompt_number": 11
    },
    {
     "cell_type": "code",
     "collapsed": false,
     "input": [
      "showarray(Out[32])"
     ],
     "language": "python",
     "metadata": {},
     "outputs": []
    },
    {
     "cell_type": "code",
     "collapsed": false,
     "input": [
      "h, w = frame.shape[:2]\n",
      "s = 0.005 # scale coefficient\n",
      "i=3    \n",
      "while i < 10000:\n",
      "\n",
      "    \n",
      "    \n",
      "    try: \n",
      "        if i/10 <= 117:\n",
      "            blobn= i/10\n",
      "        else:\n",
      "            blobn = 117\n",
      "        frame = deepdream(net, frame, end=blobs[blobn])\n",
      "        PIL.Image.fromarray(np.uint8(frame)).save(\"/home/spiorf/Scrivania/zoom4/%07d.jpg\"%frame_i)\n",
      "        frame = nd.affine_transform(frame, [1-s,1-s,1], [h*s/2,w*s/2,0], order=1)\n",
      "        frame_i += 1\n",
      "        print i, str(blobs[i/10%120])\n",
      "        i +=1\n",
      "    except ValueError:\n",
      "        print 'Skipped', str(blobs[i/10%120])\n",
      "        i +=1\n",
      "        pass\n",
      "    except KeyError:\n",
      "        print 'Skipped', str(blobs[i/10%120])\n",
      "        i +=1\n",
      "        pass "
     ],
     "language": "python",
     "metadata": {},
     "outputs": [
      {
       "ename": "NameError",
       "evalue": "global name 'octave_n' is not defined",
       "output_type": "pyerr",
       "traceback": [
        "\u001b[0;31m---------------------------------------------------------------------------\u001b[0m\n\u001b[0;31mNameError\u001b[0m                                 Traceback (most recent call last)",
        "\u001b[0;32m<ipython-input-16-0d1df1c2f0e0>\u001b[0m in \u001b[0;36m<module>\u001b[0;34m()\u001b[0m\n\u001b[1;32m     11\u001b[0m         \u001b[0;32melse\u001b[0m\u001b[0;34m:\u001b[0m\u001b[0;34m\u001b[0m\u001b[0m\n\u001b[1;32m     12\u001b[0m             \u001b[0mblobn\u001b[0m \u001b[0;34m=\u001b[0m \u001b[0;36m117\u001b[0m\u001b[0;34m\u001b[0m\u001b[0m\n\u001b[0;32m---> 13\u001b[0;31m         \u001b[0mframe\u001b[0m \u001b[0;34m=\u001b[0m \u001b[0mdeepdream\u001b[0m\u001b[0;34m(\u001b[0m\u001b[0mnet\u001b[0m\u001b[0;34m,\u001b[0m \u001b[0mframe\u001b[0m\u001b[0;34m,\u001b[0m \u001b[0mend\u001b[0m\u001b[0;34m=\u001b[0m\u001b[0mblobs\u001b[0m\u001b[0;34m[\u001b[0m\u001b[0mblobn\u001b[0m\u001b[0;34m]\u001b[0m\u001b[0;34m)\u001b[0m\u001b[0;34m\u001b[0m\u001b[0m\n\u001b[0m\u001b[1;32m     14\u001b[0m         \u001b[0mPIL\u001b[0m\u001b[0;34m.\u001b[0m\u001b[0mImage\u001b[0m\u001b[0;34m.\u001b[0m\u001b[0mfromarray\u001b[0m\u001b[0;34m(\u001b[0m\u001b[0mnp\u001b[0m\u001b[0;34m.\u001b[0m\u001b[0muint8\u001b[0m\u001b[0;34m(\u001b[0m\u001b[0mframe\u001b[0m\u001b[0;34m)\u001b[0m\u001b[0;34m)\u001b[0m\u001b[0;34m.\u001b[0m\u001b[0msave\u001b[0m\u001b[0;34m(\u001b[0m\u001b[0;34m\"/home/spiorf/Scrivania/zoom4/%07d.jpg\"\u001b[0m\u001b[0;34m%\u001b[0m\u001b[0mframe_i\u001b[0m\u001b[0;34m)\u001b[0m\u001b[0;34m\u001b[0m\u001b[0m\n\u001b[1;32m     15\u001b[0m         \u001b[0mframe\u001b[0m \u001b[0;34m=\u001b[0m \u001b[0mnd\u001b[0m\u001b[0;34m.\u001b[0m\u001b[0maffine_transform\u001b[0m\u001b[0;34m(\u001b[0m\u001b[0mframe\u001b[0m\u001b[0;34m,\u001b[0m \u001b[0;34m[\u001b[0m\u001b[0;36m1\u001b[0m\u001b[0;34m-\u001b[0m\u001b[0ms\u001b[0m\u001b[0;34m,\u001b[0m\u001b[0;36m1\u001b[0m\u001b[0;34m-\u001b[0m\u001b[0ms\u001b[0m\u001b[0;34m,\u001b[0m\u001b[0;36m1\u001b[0m\u001b[0;34m]\u001b[0m\u001b[0;34m,\u001b[0m \u001b[0;34m[\u001b[0m\u001b[0mh\u001b[0m\u001b[0;34m*\u001b[0m\u001b[0ms\u001b[0m\u001b[0;34m/\u001b[0m\u001b[0;36m2\u001b[0m\u001b[0;34m,\u001b[0m\u001b[0mw\u001b[0m\u001b[0;34m*\u001b[0m\u001b[0ms\u001b[0m\u001b[0;34m/\u001b[0m\u001b[0;36m2\u001b[0m\u001b[0;34m,\u001b[0m\u001b[0;36m0\u001b[0m\u001b[0;34m]\u001b[0m\u001b[0;34m,\u001b[0m \u001b[0morder\u001b[0m\u001b[0;34m=\u001b[0m\u001b[0;36m1\u001b[0m\u001b[0;34m)\u001b[0m\u001b[0;34m\u001b[0m\u001b[0m\n",
        "\u001b[0;32m<ipython-input-15-749d55eda036>\u001b[0m in \u001b[0;36mdeepdream\u001b[0;34m(net, base_img, iter_n, ctave_n, octave_scale, end, clip, **step_params)\u001b[0m\n\u001b[1;32m     46\u001b[0m     \u001b[0;31m# prepare base images for all octaves\u001b[0m\u001b[0;34m\u001b[0m\u001b[0;34m\u001b[0m\u001b[0m\n\u001b[1;32m     47\u001b[0m     \u001b[0moctaves\u001b[0m \u001b[0;34m=\u001b[0m \u001b[0;34m[\u001b[0m\u001b[0mpreprocess\u001b[0m\u001b[0;34m(\u001b[0m\u001b[0mnet\u001b[0m\u001b[0;34m,\u001b[0m \u001b[0mbase_img\u001b[0m\u001b[0;34m)\u001b[0m\u001b[0;34m]\u001b[0m\u001b[0;34m\u001b[0m\u001b[0m\n\u001b[0;32m---> 48\u001b[0;31m     \u001b[0;32mfor\u001b[0m \u001b[0mi\u001b[0m \u001b[0;32min\u001b[0m \u001b[0mxrange\u001b[0m\u001b[0;34m(\u001b[0m\u001b[0moctave_n\u001b[0m\u001b[0;34m-\u001b[0m\u001b[0;36m1\u001b[0m\u001b[0;34m)\u001b[0m\u001b[0;34m:\u001b[0m\u001b[0;34m\u001b[0m\u001b[0m\n\u001b[0m\u001b[1;32m     49\u001b[0m         \u001b[0moctaves\u001b[0m\u001b[0;34m.\u001b[0m\u001b[0mappend\u001b[0m\u001b[0;34m(\u001b[0m\u001b[0mnd\u001b[0m\u001b[0;34m.\u001b[0m\u001b[0mzoom\u001b[0m\u001b[0;34m(\u001b[0m\u001b[0moctaves\u001b[0m\u001b[0;34m[\u001b[0m\u001b[0;34m-\u001b[0m\u001b[0;36m1\u001b[0m\u001b[0;34m]\u001b[0m\u001b[0;34m,\u001b[0m \u001b[0;34m(\u001b[0m\u001b[0;36m1\u001b[0m\u001b[0;34m,\u001b[0m \u001b[0;36m1.0\u001b[0m\u001b[0;34m/\u001b[0m\u001b[0moctave_scale\u001b[0m\u001b[0;34m,\u001b[0m\u001b[0;36m1.0\u001b[0m\u001b[0;34m/\u001b[0m\u001b[0moctave_scale\u001b[0m\u001b[0;34m)\u001b[0m\u001b[0;34m,\u001b[0m \u001b[0morder\u001b[0m\u001b[0;34m=\u001b[0m\u001b[0;36m1\u001b[0m\u001b[0;34m)\u001b[0m\u001b[0;34m)\u001b[0m\u001b[0;34m\u001b[0m\u001b[0m\n\u001b[1;32m     50\u001b[0m \u001b[0;34m\u001b[0m\u001b[0m\n",
        "\u001b[0;31mNameError\u001b[0m: global name 'octave_n' is not defined"
       ]
      }
     ],
     "prompt_number": 16
    },
    {
     "cell_type": "code",
     "collapsed": false,
     "input": [
      "        i=100000\n",
      "        if i/10 <= 117:\n",
      "            blobn= i/10\n",
      "        else:\n",
      "            blobn = 117\n",
      "            \n",
      "        print blobs[blobn]"
     ],
     "language": "python",
     "metadata": {},
     "outputs": [
      {
       "output_type": "stream",
       "stream": "stdout",
       "text": [
        "inception_5b/output\n"
       ]
      }
     ],
     "prompt_number": 14
    },
    {
     "cell_type": "markdown",
     "metadata": {},
     "source": [
      "## Controlling dreams\n",
      "\n",
      "The image detail generation method described above tends to produce some patterns more often the others. One easy way to improve the generated image diversity is to tweak the optimization objective. Here we show just one of many ways to do that. Let's use one more input image. We'd call it a \"*guide*\"."
     ]
    },
    {
     "cell_type": "code",
     "collapsed": true,
     "input": [],
     "language": "python",
     "metadata": {},
     "outputs": []
    },
    {
     "cell_type": "code",
     "collapsed": false,
     "input": [],
     "language": "python",
     "metadata": {},
     "outputs": []
    },
    {
     "cell_type": "code",
     "collapsed": false,
     "input": [
      "guide = np.float32(PIL.Image.open('/home/spiorf/Scrivania/kittens.jpg'))\n",
      "showarray(guide)\n",
      "end = 'inception_4c/output'\n",
      "h, w = guide.shape[:2]\n",
      "src, dst = net.blobs['data'], net.blobs[end]\n",
      "src.reshape(1,3,h,w)\n",
      "src.data[0] = preprocess(net, guide)\n",
      "net.forward(end=end)\n",
      "guide_features = dst.data[0].copy()\n",
      "\n",
      "def objective_guide(dst):\n",
      "    x = dst.data[0].copy()\n",
      "    y = guide_features\n",
      "    ch = x.shape[0]\n",
      "    x = x.reshape(ch,-1)\n",
      "    y = y.reshape(ch,-1)\n",
      "    A = x.T.dot(y) # compute the matrix of dot-products with guide features\n",
      "    dst.diff[0].reshape(ch,-1)[:] = y[:,A.argmax(1)] # select ones that match best\n"
     ],
     "language": "python",
     "metadata": {},
     "outputs": [
      {
       "jpeg": "[encoded data removed]",
       "metadata": {},
       "output_type": "display_data",
       "text": [
        "<IPython.core.display.Image at 0x7fb3ede8a290>"
       ]
      }
     ],
     "prompt_number": 5
    },
    {
     "cell_type": "markdown",
     "metadata": {},
     "source": [
      "Note that the neural network we use was trained on images downscaled to 224x224 size. So high resolution images might have to be downscaled, so that the network could pick up their features. The image we use here is already small enough.\n",
      "\n",
      "Now we pick some target layer and extract guide image features."
     ]
    },
    {
     "cell_type": "markdown",
     "metadata": {},
     "source": [
      "Instead of maximizing the L2-norm of current image activations, we try to maximize the dot-products between activations of current image, and their best matching correspondences from the guide image."
     ]
    },
    {
     "cell_type": "code",
     "collapsed": false,
     "input": [
      "_=deepdream(net, img, end=end, objective=objective_guide)"
     ],
     "language": "python",
     "metadata": {},
     "outputs": [
      {
       "jpeg": "[encoded data removed]",
       "metadata": {},
       "output_type": "display_data",
       "text": [
        "<IPython.core.display.Image at 0x7fb3ede38210>"
       ]
      },
      {
       "output_type": "stream",
       "stream": "stdout",
       "text": [
        "1 999 inception_4c/output (180, 240, 3)\n"
       ]
      }
     ],
     "prompt_number": 6
    },
    {
     "cell_type": "heading",
     "level": 5,
     "metadata": {},
     "source": [
      "This way we can affect the style of generated images without using a different training set."
     ]
    },
    {
     "cell_type": "code",
     "collapsed": false,
     "input": [],
     "language": "python",
     "metadata": {},
     "outputs": []
    }
   ],
   "metadata": {}
  }
 ]
}